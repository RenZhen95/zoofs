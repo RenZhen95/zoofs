{
  "nbformat": 4,
  "nbformat_minor": 2,
  "metadata": {
    "colab": {
      "name": "Particle_swarm_optimization_example.ipynb",
      "provenance": []
    },
    "kernelspec": {
      "name": "python3",
      "display_name": "Python 3"
    },
    "language_info": {
      "name": "python"
    }
  },
  "cells": [
    {
      "cell_type": "markdown",
      "source": [
        "# Particle Swarm Optimization"
      ],
      "metadata": {}
    },
    {
      "cell_type": "markdown",
      "source": [
        "# Installation"
      ],
      "metadata": {
        "id": "rPFycvTBSlFZ"
      }
    },
    {
      "cell_type": "code",
      "execution_count": 1,
      "source": [
        "!pip install zoofs"
      ],
      "outputs": [
        {
          "output_type": "stream",
          "name": "stdout",
          "text": [
            "Collecting zoofs\n",
            "  Downloading zoofs-0.1.1.tar.gz (18 kB)\n",
            "Requirement already satisfied: pandas in /usr/local/lib/python3.7/dist-packages (from zoofs) (1.1.5)\n",
            "Requirement already satisfied: numpy in /usr/local/lib/python3.7/dist-packages (from zoofs) (1.19.5)\n",
            "Requirement already satisfied: scipy in /usr/local/lib/python3.7/dist-packages (from zoofs) (1.4.1)\n",
            "Requirement already satisfied: plotly in /usr/local/lib/python3.7/dist-packages (from zoofs) (4.4.1)\n",
            "Requirement already satisfied: pytz>=2017.2 in /usr/local/lib/python3.7/dist-packages (from pandas->zoofs) (2018.9)\n",
            "Requirement already satisfied: python-dateutil>=2.7.3 in /usr/local/lib/python3.7/dist-packages (from pandas->zoofs) (2.8.2)\n",
            "Requirement already satisfied: six>=1.5 in /usr/local/lib/python3.7/dist-packages (from python-dateutil>=2.7.3->pandas->zoofs) (1.15.0)\n",
            "Requirement already satisfied: retrying>=1.3.3 in /usr/local/lib/python3.7/dist-packages (from plotly->zoofs) (1.3.3)\n",
            "Building wheels for collected packages: zoofs\n",
            "  Building wheel for zoofs (setup.py) ... \u001b[?25l\u001b[?25hdone\n",
            "  Created wheel for zoofs: filename=zoofs-0.1.1-py3-none-any.whl size=21982 sha256=c0b0d596309483e11231ec347626d65cae12eead26c275bf0500b69eaafbbfbc\n",
            "  Stored in directory: /root/.cache/pip/wheels/43/6b/cf/791de5b325fbb66b06beb7705ce89e48122053031693d71306\n",
            "Successfully built zoofs\n",
            "Installing collected packages: zoofs\n",
            "Successfully installed zoofs-0.1.1\n"
          ]
        }
      ],
      "metadata": {
        "colab": {
          "base_uri": "https://localhost:8080/"
        },
        "id": "m11hMUpV8eQQ",
        "outputId": "ffeda484-d453-4052-8ba7-b06ea557899b"
      }
    },
    {
      "cell_type": "markdown",
      "source": [
        "# Load Breast cancer dataset "
      ],
      "metadata": {
        "id": "eIPOmPR2SoFp"
      }
    },
    {
      "cell_type": "code",
      "execution_count": 21,
      "source": [
        "from sklearn.datasets import load_breast_cancer\r\n",
        "import pandas as pd\r\n",
        "data = load_breast_cancer()\r\n",
        "X_train=pd.DataFrame(data['data'],columns=data['feature_names'])\r\n",
        "y_train=pd.Series(data['target'])\r\n"
      ],
      "outputs": [],
      "metadata": {
        "id": "50Psmo778jrp"
      }
    },
    {
      "cell_type": "markdown",
      "source": [
        "# Importing Zoofs Algo"
      ],
      "metadata": {
        "id": "xbldfYoYJAIv"
      }
    },
    {
      "cell_type": "code",
      "execution_count": 22,
      "source": [
        "from zoofs import ParticleSwarmOptimization"
      ],
      "outputs": [],
      "metadata": {
        "id": "GB3sjzhYSs5P"
      }
    },
    {
      "cell_type": "markdown",
      "source": [
        "# Setting up Objective function and fitting algo"
      ],
      "metadata": {
        "id": "M-pTOBAsJDaw"
      }
    },
    {
      "cell_type": "code",
      "execution_count": 26,
      "source": [
        "from sklearn.metrics import log_loss\r\n",
        "# define your own objective function, make sure the function receives four parameters,\r\n",
        "#  fit your model and return the objective value ! \r\n",
        "def objective_function_topass(model,X_train, y_train, X_valid, y_valid):      \r\n",
        "    model.fit(X_train,y_train)  \r\n",
        "    P=log_loss(y_valid,model.predict_proba(X_valid))\r\n",
        "    return P\r\n",
        "    \r\n",
        "# create object of algorithm\r\n",
        "algo_object=ParticleSwarmOptimization(objective_function_topass,n_iteration=25,\r\n",
        "                                       population_size=20,minimize=True)\r\n",
        "import lightgbm as lgb\r\n",
        "lgb_model = lgb.LGBMClassifier()                                       \r\n",
        "# fit the algorithm\r\n",
        "algo_object.fit(lgb_model,X_train, y_train, X_train, y_train,verbose=True)\r\n",
        "#plot your results"
      ],
      "outputs": [
        {
          "output_type": "stream",
          "name": "stdout",
          "text": [
            "\t\t Best value of metric across iteration \t Best value of metric across population  \n",
            "Iteration 0 \t 0.0007777240687977614 \t\t\t\t\t 0.0007777240687977614 \n",
            "Iteration 1 \t 0.0007639311121602203 \t\t\t\t\t 0.0007639311121602203 \n",
            "Iteration 2 \t 0.0007453396465884814 \t\t\t\t\t 0.0007453396465884814 \n",
            "Iteration 3 \t 0.000778160159772716 \t\t\t\t\t 0.0007453396465884814 \n",
            "Iteration 4 \t 0.0007414214855169069 \t\t\t\t\t 0.0007414214855169069 \n",
            "Iteration 5 \t 0.0006971506391834708 \t\t\t\t\t 0.0006971506391834708 \n",
            "Iteration 6 \t 0.0006832069156686158 \t\t\t\t\t 0.0006832069156686158 \n",
            "Iteration 7 \t 0.0006985524733145794 \t\t\t\t\t 0.0006832069156686158 \n",
            "Iteration 8 \t 0.0006875983507432936 \t\t\t\t\t 0.0006832069156686158 \n",
            "Iteration 9 \t 0.0006375627644303212 \t\t\t\t\t 0.0006375627644303212 \n",
            "Iteration 10 \t 0.0006944606654676035 \t\t\t\t\t 0.0006375627644303212 \n",
            "Iteration 11 \t 0.0006653216204694556 \t\t\t\t\t 0.0006375627644303212 \n",
            "Iteration 12 \t 0.0006390539852243051 \t\t\t\t\t 0.0006375627644303212 \n",
            "Iteration 13 \t 0.000663383699697794 \t\t\t\t\t 0.0006375627644303212 \n",
            "Iteration 14 \t 0.0006403201814532253 \t\t\t\t\t 0.0006375627644303212 \n",
            "Iteration 15 \t 0.0006567597146178497 \t\t\t\t\t 0.0006375627644303212 \n",
            "Iteration 16 \t 0.0006765454243875374 \t\t\t\t\t 0.0006375627644303212 \n",
            "Iteration 17 \t 0.0005899481476093014 \t\t\t\t\t 0.0005899481476093014 \n",
            "Iteration 18 \t 0.0006770786237024709 \t\t\t\t\t 0.0005899481476093014 \n",
            "Iteration 19 \t 0.0006482508034347525 \t\t\t\t\t 0.0005899481476093014 \n",
            "Iteration 20 \t 0.0006529884762498758 \t\t\t\t\t 0.0005899481476093014 \n",
            "Iteration 21 \t 0.0006297609172901148 \t\t\t\t\t 0.0005899481476093014 \n",
            "Iteration 22 \t 0.0006566832573862037 \t\t\t\t\t 0.0005899481476093014 \n",
            "Iteration 23 \t 0.0006399979269705674 \t\t\t\t\t 0.0005899481476093014 \n",
            "Iteration 24 \t 0.0006408414708375032 \t\t\t\t\t 0.0005899481476093014 \n"
          ]
        },
        {
          "output_type": "execute_result",
          "data": {
            "text/plain": [
              "['mean radius',\n",
              " 'mean texture',\n",
              " 'mean perimeter',\n",
              " 'mean compactness',\n",
              " 'mean concavity',\n",
              " 'mean concave points',\n",
              " 'mean symmetry',\n",
              " 'mean fractal dimension',\n",
              " 'radius error',\n",
              " 'area error',\n",
              " 'smoothness error',\n",
              " 'compactness error',\n",
              " 'concave points error',\n",
              " 'symmetry error',\n",
              " 'fractal dimension error',\n",
              " 'worst radius',\n",
              " 'worst texture',\n",
              " 'worst perimeter',\n",
              " 'worst area',\n",
              " 'worst smoothness',\n",
              " 'worst concavity',\n",
              " 'worst concave points',\n",
              " 'worst fractal dimension']"
            ]
          },
          "metadata": {},
          "execution_count": 26
        }
      ],
      "metadata": {
        "colab": {
          "base_uri": "https://localhost:8080/"
        },
        "id": "RBewGAguHn10",
        "outputId": "9f17f017-f77c-4cfe-8e38-03e563a61884"
      }
    },
    {
      "cell_type": "markdown",
      "source": [
        "# Plotting the Results"
      ],
      "metadata": {
        "id": "2wIhkfa4Jf_e"
      }
    },
    {
      "cell_type": "code",
      "execution_count": 28,
      "source": [
        "algo_object.plot_history()"
      ],
      "outputs": [
        {
          "output_type": "display_data",
          "data": {
            "text/html": [
              "<html>\n",
              "<head><meta charset=\"utf-8\" /></head>\n",
              "<body>\n",
              "    <div>\n",
              "            <script src=\"https://cdnjs.cloudflare.com/ajax/libs/mathjax/2.7.5/MathJax.js?config=TeX-AMS-MML_SVG\"></script><script type=\"text/javascript\">if (window.MathJax) {MathJax.Hub.Config({SVG: {font: \"STIX-Web\"}});}</script>\n",
              "                <script type=\"text/javascript\">window.PlotlyConfig = {MathJaxConfig: 'local'};</script>\n",
              "        <script src=\"https://cdn.plot.ly/plotly-latest.min.js\"></script>    \n",
              "            <div id=\"5ca8562b-b615-4dc6-b926-9dc8062f5032\" class=\"plotly-graph-div\" style=\"height:525px; width:100%;\"></div>\n",
              "            <script type=\"text/javascript\">\n",
              "                \n",
              "                    window.PLOTLYENV=window.PLOTLYENV || {};\n",
              "                    \n",
              "                if (document.getElementById(\"5ca8562b-b615-4dc6-b926-9dc8062f5032\")) {\n",
              "                    Plotly.newPlot(\n",
              "                        '5ca8562b-b615-4dc6-b926-9dc8062f5032',\n",
              "                        [{\"mode\": \"markers\", \"name\": \"objective_score\", \"type\": \"scatter\", \"x\": [0, 1, 2, 3, 4, 5, 6, 7, 8, 9, 10, 11, 12, 13, 14, 15, 16, 17, 18, 19, 20, 21, 22, 23, 24], \"y\": [0.0007777240687977614, 0.0007639311121602203, 0.0007453396465884814, 0.000778160159772716, 0.0007414214855169069, 0.0006971506391834708, 0.0006832069156686158, 0.0006985524733145794, 0.0006875983507432936, 0.0006375627644303212, 0.0006944606654676035, 0.0006653216204694556, 0.0006390539852243051, 0.000663383699697794, 0.0006403201814532253, 0.0006567597146178497, 0.0006765454243875374, 0.0005899481476093014, 0.0006770786237024709, 0.0006482508034347525, 0.0006529884762498758, 0.0006297609172901148, 0.0006566832573862037, 0.0006399979269705674, 0.0006408414708375032]}, {\"mode\": \"lines+markers\", \"name\": \"best_score\", \"type\": \"scatter\", \"x\": [0, 1, 2, 3, 4, 5, 6, 7, 8, 9, 10, 11, 12, 13, 14, 15, 16, 17, 18, 19, 20, 21, 22, 23, 24], \"y\": [0.0007777240687977614, 0.0007639311121602203, 0.0007453396465884814, 0.0007453396465884814, 0.0007414214855169069, 0.0006971506391834708, 0.0006832069156686158, 0.0006832069156686158, 0.0006832069156686158, 0.0006375627644303212, 0.0006375627644303212, 0.0006375627644303212, 0.0006375627644303212, 0.0006375627644303212, 0.0006375627644303212, 0.0006375627644303212, 0.0006375627644303212, 0.0005899481476093014, 0.0005899481476093014, 0.0005899481476093014, 0.0005899481476093014, 0.0005899481476093014, 0.0005899481476093014, 0.0005899481476093014, 0.0005899481476093014]}],\n",
              "                        {\"template\": {\"data\": {\"bar\": [{\"error_x\": {\"color\": \"#2a3f5f\"}, \"error_y\": {\"color\": \"#2a3f5f\"}, \"marker\": {\"line\": {\"color\": \"#E5ECF6\", \"width\": 0.5}}, \"type\": \"bar\"}], \"barpolar\": [{\"marker\": {\"line\": {\"color\": \"#E5ECF6\", \"width\": 0.5}}, \"type\": \"barpolar\"}], \"carpet\": [{\"aaxis\": {\"endlinecolor\": \"#2a3f5f\", \"gridcolor\": \"white\", \"linecolor\": \"white\", \"minorgridcolor\": \"white\", \"startlinecolor\": \"#2a3f5f\"}, \"baxis\": {\"endlinecolor\": \"#2a3f5f\", \"gridcolor\": \"white\", \"linecolor\": \"white\", \"minorgridcolor\": \"white\", \"startlinecolor\": \"#2a3f5f\"}, \"type\": \"carpet\"}], \"choropleth\": [{\"colorbar\": {\"outlinewidth\": 0, \"ticks\": \"\"}, \"type\": \"choropleth\"}], \"contour\": [{\"colorbar\": {\"outlinewidth\": 0, \"ticks\": \"\"}, \"colorscale\": [[0.0, \"#0d0887\"], [0.1111111111111111, \"#46039f\"], [0.2222222222222222, \"#7201a8\"], [0.3333333333333333, \"#9c179e\"], [0.4444444444444444, \"#bd3786\"], [0.5555555555555556, \"#d8576b\"], [0.6666666666666666, \"#ed7953\"], [0.7777777777777778, \"#fb9f3a\"], [0.8888888888888888, \"#fdca26\"], [1.0, \"#f0f921\"]], \"type\": \"contour\"}], \"contourcarpet\": [{\"colorbar\": {\"outlinewidth\": 0, \"ticks\": \"\"}, \"type\": \"contourcarpet\"}], \"heatmap\": [{\"colorbar\": {\"outlinewidth\": 0, \"ticks\": \"\"}, \"colorscale\": [[0.0, \"#0d0887\"], [0.1111111111111111, \"#46039f\"], [0.2222222222222222, \"#7201a8\"], [0.3333333333333333, \"#9c179e\"], [0.4444444444444444, \"#bd3786\"], [0.5555555555555556, \"#d8576b\"], [0.6666666666666666, \"#ed7953\"], [0.7777777777777778, \"#fb9f3a\"], [0.8888888888888888, \"#fdca26\"], [1.0, \"#f0f921\"]], \"type\": \"heatmap\"}], \"heatmapgl\": [{\"colorbar\": {\"outlinewidth\": 0, \"ticks\": \"\"}, \"colorscale\": [[0.0, \"#0d0887\"], [0.1111111111111111, \"#46039f\"], [0.2222222222222222, \"#7201a8\"], [0.3333333333333333, \"#9c179e\"], [0.4444444444444444, \"#bd3786\"], [0.5555555555555556, \"#d8576b\"], [0.6666666666666666, \"#ed7953\"], [0.7777777777777778, \"#fb9f3a\"], [0.8888888888888888, \"#fdca26\"], [1.0, \"#f0f921\"]], \"type\": \"heatmapgl\"}], \"histogram\": [{\"marker\": {\"colorbar\": {\"outlinewidth\": 0, \"ticks\": \"\"}}, \"type\": \"histogram\"}], \"histogram2d\": [{\"colorbar\": {\"outlinewidth\": 0, \"ticks\": \"\"}, \"colorscale\": [[0.0, \"#0d0887\"], [0.1111111111111111, \"#46039f\"], [0.2222222222222222, \"#7201a8\"], [0.3333333333333333, \"#9c179e\"], [0.4444444444444444, \"#bd3786\"], [0.5555555555555556, \"#d8576b\"], [0.6666666666666666, \"#ed7953\"], [0.7777777777777778, \"#fb9f3a\"], [0.8888888888888888, \"#fdca26\"], [1.0, \"#f0f921\"]], \"type\": \"histogram2d\"}], \"histogram2dcontour\": [{\"colorbar\": {\"outlinewidth\": 0, \"ticks\": \"\"}, \"colorscale\": [[0.0, \"#0d0887\"], [0.1111111111111111, \"#46039f\"], [0.2222222222222222, \"#7201a8\"], [0.3333333333333333, \"#9c179e\"], [0.4444444444444444, \"#bd3786\"], [0.5555555555555556, \"#d8576b\"], [0.6666666666666666, \"#ed7953\"], [0.7777777777777778, \"#fb9f3a\"], [0.8888888888888888, \"#fdca26\"], [1.0, \"#f0f921\"]], \"type\": \"histogram2dcontour\"}], \"mesh3d\": [{\"colorbar\": {\"outlinewidth\": 0, \"ticks\": \"\"}, \"type\": \"mesh3d\"}], \"parcoords\": [{\"line\": {\"colorbar\": {\"outlinewidth\": 0, \"ticks\": \"\"}}, \"type\": \"parcoords\"}], \"pie\": [{\"automargin\": true, \"type\": \"pie\"}], \"scatter\": [{\"marker\": {\"colorbar\": {\"outlinewidth\": 0, \"ticks\": \"\"}}, \"type\": \"scatter\"}], \"scatter3d\": [{\"line\": {\"colorbar\": {\"outlinewidth\": 0, \"ticks\": \"\"}}, \"marker\": {\"colorbar\": {\"outlinewidth\": 0, \"ticks\": \"\"}}, \"type\": \"scatter3d\"}], \"scattercarpet\": [{\"marker\": {\"colorbar\": {\"outlinewidth\": 0, \"ticks\": \"\"}}, \"type\": \"scattercarpet\"}], \"scattergeo\": [{\"marker\": {\"colorbar\": {\"outlinewidth\": 0, \"ticks\": \"\"}}, \"type\": \"scattergeo\"}], \"scattergl\": [{\"marker\": {\"colorbar\": {\"outlinewidth\": 0, \"ticks\": \"\"}}, \"type\": \"scattergl\"}], \"scattermapbox\": [{\"marker\": {\"colorbar\": {\"outlinewidth\": 0, \"ticks\": \"\"}}, \"type\": \"scattermapbox\"}], \"scatterpolar\": [{\"marker\": {\"colorbar\": {\"outlinewidth\": 0, \"ticks\": \"\"}}, \"type\": \"scatterpolar\"}], \"scatterpolargl\": [{\"marker\": {\"colorbar\": {\"outlinewidth\": 0, \"ticks\": \"\"}}, \"type\": \"scatterpolargl\"}], \"scatterternary\": [{\"marker\": {\"colorbar\": {\"outlinewidth\": 0, \"ticks\": \"\"}}, \"type\": \"scatterternary\"}], \"surface\": [{\"colorbar\": {\"outlinewidth\": 0, \"ticks\": \"\"}, \"colorscale\": [[0.0, \"#0d0887\"], [0.1111111111111111, \"#46039f\"], [0.2222222222222222, \"#7201a8\"], [0.3333333333333333, \"#9c179e\"], [0.4444444444444444, \"#bd3786\"], [0.5555555555555556, \"#d8576b\"], [0.6666666666666666, \"#ed7953\"], [0.7777777777777778, \"#fb9f3a\"], [0.8888888888888888, \"#fdca26\"], [1.0, \"#f0f921\"]], \"type\": \"surface\"}], \"table\": [{\"cells\": {\"fill\": {\"color\": \"#EBF0F8\"}, \"line\": {\"color\": \"white\"}}, \"header\": {\"fill\": {\"color\": \"#C8D4E3\"}, \"line\": {\"color\": \"white\"}}, \"type\": \"table\"}]}, \"layout\": {\"annotationdefaults\": {\"arrowcolor\": \"#2a3f5f\", \"arrowhead\": 0, \"arrowwidth\": 1}, \"coloraxis\": {\"colorbar\": {\"outlinewidth\": 0, \"ticks\": \"\"}}, \"colorscale\": {\"diverging\": [[0, \"#8e0152\"], [0.1, \"#c51b7d\"], [0.2, \"#de77ae\"], [0.3, \"#f1b6da\"], [0.4, \"#fde0ef\"], [0.5, \"#f7f7f7\"], [0.6, \"#e6f5d0\"], [0.7, \"#b8e186\"], [0.8, \"#7fbc41\"], [0.9, \"#4d9221\"], [1, \"#276419\"]], \"sequential\": [[0.0, \"#0d0887\"], [0.1111111111111111, \"#46039f\"], [0.2222222222222222, \"#7201a8\"], [0.3333333333333333, \"#9c179e\"], [0.4444444444444444, \"#bd3786\"], [0.5555555555555556, \"#d8576b\"], [0.6666666666666666, \"#ed7953\"], [0.7777777777777778, \"#fb9f3a\"], [0.8888888888888888, \"#fdca26\"], [1.0, \"#f0f921\"]], \"sequentialminus\": [[0.0, \"#0d0887\"], [0.1111111111111111, \"#46039f\"], [0.2222222222222222, \"#7201a8\"], [0.3333333333333333, \"#9c179e\"], [0.4444444444444444, \"#bd3786\"], [0.5555555555555556, \"#d8576b\"], [0.6666666666666666, \"#ed7953\"], [0.7777777777777778, \"#fb9f3a\"], [0.8888888888888888, \"#fdca26\"], [1.0, \"#f0f921\"]]}, \"colorway\": [\"#636efa\", \"#EF553B\", \"#00cc96\", \"#ab63fa\", \"#FFA15A\", \"#19d3f3\", \"#FF6692\", \"#B6E880\", \"#FF97FF\", \"#FECB52\"], \"font\": {\"color\": \"#2a3f5f\"}, \"geo\": {\"bgcolor\": \"white\", \"lakecolor\": \"white\", \"landcolor\": \"#E5ECF6\", \"showlakes\": true, \"showland\": true, \"subunitcolor\": \"white\"}, \"hoverlabel\": {\"align\": \"left\"}, \"hovermode\": \"closest\", \"mapbox\": {\"style\": \"light\"}, \"paper_bgcolor\": \"white\", \"plot_bgcolor\": \"#E5ECF6\", \"polar\": {\"angularaxis\": {\"gridcolor\": \"white\", \"linecolor\": \"white\", \"ticks\": \"\"}, \"bgcolor\": \"#E5ECF6\", \"radialaxis\": {\"gridcolor\": \"white\", \"linecolor\": \"white\", \"ticks\": \"\"}}, \"scene\": {\"xaxis\": {\"backgroundcolor\": \"#E5ECF6\", \"gridcolor\": \"white\", \"gridwidth\": 2, \"linecolor\": \"white\", \"showbackground\": true, \"ticks\": \"\", \"zerolinecolor\": \"white\"}, \"yaxis\": {\"backgroundcolor\": \"#E5ECF6\", \"gridcolor\": \"white\", \"gridwidth\": 2, \"linecolor\": \"white\", \"showbackground\": true, \"ticks\": \"\", \"zerolinecolor\": \"white\"}, \"zaxis\": {\"backgroundcolor\": \"#E5ECF6\", \"gridcolor\": \"white\", \"gridwidth\": 2, \"linecolor\": \"white\", \"showbackground\": true, \"ticks\": \"\", \"zerolinecolor\": \"white\"}}, \"shapedefaults\": {\"line\": {\"color\": \"#2a3f5f\"}}, \"ternary\": {\"aaxis\": {\"gridcolor\": \"white\", \"linecolor\": \"white\", \"ticks\": \"\"}, \"baxis\": {\"gridcolor\": \"white\", \"linecolor\": \"white\", \"ticks\": \"\"}, \"bgcolor\": \"#E5ECF6\", \"caxis\": {\"gridcolor\": \"white\", \"linecolor\": \"white\", \"ticks\": \"\"}}, \"title\": {\"x\": 0.05}, \"xaxis\": {\"automargin\": true, \"gridcolor\": \"white\", \"linecolor\": \"white\", \"ticks\": \"\", \"title\": {\"standoff\": 15}, \"zerolinecolor\": \"white\", \"zerolinewidth\": 2}, \"yaxis\": {\"automargin\": true, \"gridcolor\": \"white\", \"linecolor\": \"white\", \"ticks\": \"\", \"title\": {\"standoff\": 15}, \"zerolinecolor\": \"white\", \"zerolinewidth\": 2}}}, \"title\": {\"text\": \"Optimization History Plot\"}, \"xaxis\": {\"title\": {\"text\": \"Iteration\"}}, \"yaxis\": {\"title\": {\"text\": \"objective_score\"}}},\n",
              "                        {\"responsive\": true}\n",
              "                    ).then(function(){\n",
              "                            \n",
              "var gd = document.getElementById('5ca8562b-b615-4dc6-b926-9dc8062f5032');\n",
              "var x = new MutationObserver(function (mutations, observer) {{\n",
              "        var display = window.getComputedStyle(gd).display;\n",
              "        if (!display || display === 'none') {{\n",
              "            console.log([gd, 'removed!']);\n",
              "            Plotly.purge(gd);\n",
              "            observer.disconnect();\n",
              "        }}\n",
              "}});\n",
              "\n",
              "// Listen for the removal of the full notebook cells\n",
              "var notebookContainer = gd.closest('#notebook-container');\n",
              "if (notebookContainer) {{\n",
              "    x.observe(notebookContainer, {childList: true});\n",
              "}}\n",
              "\n",
              "// Listen for the clearing of the current output cell\n",
              "var outputEl = gd.closest('.output');\n",
              "if (outputEl) {{\n",
              "    x.observe(outputEl, {childList: true});\n",
              "}}\n",
              "\n",
              "                        })\n",
              "                };\n",
              "                \n",
              "            </script>\n",
              "        </div>\n",
              "</body>\n",
              "</html>"
            ]
          },
          "metadata": {}
        }
      ],
      "metadata": {
        "id": "ANgs6iqsHqQk",
        "colab": {
          "base_uri": "https://localhost:8080/",
          "height": 542
        },
        "outputId": "c8aa7e99-6659-430c-c779-eb35476b6d0f"
      }
    }
  ]
}