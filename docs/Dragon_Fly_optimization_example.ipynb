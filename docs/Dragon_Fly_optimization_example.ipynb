{
  "cells": [
    {
      "cell_type": "markdown",
      "metadata": {
        "id": "qMsrI4WTBcNc"
      },
      "source": [
        "# Dragon Fly Optimization"
      ]
    },
    {
      "cell_type": "markdown",
      "metadata": {
        "id": "rPFycvTBSlFZ"
      },
      "source": [
        "# Installation"
      ]
    },
    {
      "cell_type": "code",
      "execution_count": 2,
      "metadata": {
        "colab": {
          "base_uri": "https://localhost:8080/"
        },
        "id": "m11hMUpV8eQQ",
        "outputId": "4b2a6167-16b8-42f8-b064-e5a0b870e62c"
      },
      "outputs": [
        {
          "name": "stdout",
          "output_type": "stream",
          "text": [
            "Collecting zoofs==0.1.24\n",
            "  Downloading zoofs-0.1.24.tar.gz (28 kB)\n",
            "Requirement already satisfied: pandas>=1.3.0 in c:\\users\\user\\appdata\\local\\programs\\python\\python39\\lib\\site-packages (from zoofs==0.1.24) (1.3.2)\n",
            "Requirement already satisfied: numpy in c:\\users\\user\\appdata\\local\\programs\\python\\python39\\lib\\site-packages (from zoofs==0.1.24) (1.21.2)\n",
            "Requirement already satisfied: scipy>=1.4.1 in c:\\users\\user\\appdata\\local\\programs\\python\\python39\\lib\\site-packages (from zoofs==0.1.24) (1.7.1)\n",
            "Requirement already satisfied: plotly>=5.6.0 in c:\\users\\user\\appdata\\local\\programs\\python\\python39\\lib\\site-packages (from zoofs==0.1.24) (5.6.0)\n",
            "Requirement already satisfied: colorlog>=6.6.0 in c:\\users\\user\\appdata\\local\\programs\\python\\python39\\lib\\site-packages (from zoofs==0.1.24) (6.6.0)\n",
            "Requirement already satisfied: colorama in c:\\users\\user\\appdata\\local\\programs\\python\\python39\\lib\\site-packages (from colorlog>=6.6.0->zoofs==0.1.24) (0.4.4)\n",
            "Requirement already satisfied: python-dateutil>=2.7.3 in c:\\users\\user\\appdata\\local\\programs\\python\\python39\\lib\\site-packages (from pandas>=1.3.0->zoofs==0.1.24) (2.8.2)\n",
            "Requirement already satisfied: pytz>=2017.3 in c:\\users\\user\\appdata\\local\\programs\\python\\python39\\lib\\site-packages (from pandas>=1.3.0->zoofs==0.1.24) (2021.1)\n",
            "Requirement already satisfied: tenacity>=6.2.0 in c:\\users\\user\\appdata\\local\\programs\\python\\python39\\lib\\site-packages (from plotly>=5.6.0->zoofs==0.1.24) (8.0.1)\n",
            "Requirement already satisfied: six in c:\\users\\user\\appdata\\local\\programs\\python\\python39\\lib\\site-packages (from plotly>=5.6.0->zoofs==0.1.24) (1.16.0)\n",
            "Building wheels for collected packages: zoofs\n",
            "  Building wheel for zoofs (setup.py): started\n",
            "  Building wheel for zoofs (setup.py): finished with status 'done'\n",
            "  Created wheel for zoofs: filename=zoofs-0.1.24-py3-none-any.whl size=27722 sha256=580564be9e188483eaebe97ebf28096152d7600f4b04330af9ce2f81b31fd37f\n",
            "  Stored in directory: c:\\users\\user\\appdata\\local\\pip\\cache\\wheels\\61\\67\\35\\51d8acdeae92edd559eccf1283366908b6f42c0dc15be9b38a\n",
            "Successfully built zoofs\n",
            "Installing collected packages: zoofs\n",
            "  Attempting uninstall: zoofs\n",
            "    Found existing installation: zoofs 0.1.23\n",
            "    Uninstalling zoofs-0.1.23:\n",
            "      Successfully uninstalled zoofs-0.1.23\n",
            "Successfully installed zoofs-0.1.24\n"
          ]
        },
        {
          "name": "stderr",
          "output_type": "stream",
          "text": [
            "WARNING: You are using pip version 21.1.1; however, version 22.0.3 is available.\n",
            "You should consider upgrading via the 'c:\\users\\user\\appdata\\local\\programs\\python\\python39\\python.exe -m pip install --upgrade pip' command.\n"
          ]
        }
      ],
      "source": [
        "!pip install zoofs==0.1.24"
      ]
    },
    {
      "cell_type": "markdown",
      "metadata": {
        "id": "eIPOmPR2SoFp"
      },
      "source": [
        "# Load Breast cancer dataset "
      ]
    },
    {
      "cell_type": "code",
      "execution_count": 3,
      "metadata": {
        "id": "50Psmo778jrp"
      },
      "outputs": [],
      "source": [
        "from sklearn.datasets import load_breast_cancer\n",
        "import pandas as pd\n",
        "data = load_breast_cancer()\n",
        "X_train=pd.DataFrame(data['data'],columns=data['feature_names'])\n",
        "y_train=pd.Series(data['target'])\n"
      ]
    },
    {
      "cell_type": "markdown",
      "metadata": {
        "id": "xbldfYoYJAIv"
      },
      "source": [
        "# Importing Zoofs Algo"
      ]
    },
    {
      "cell_type": "code",
      "execution_count": 4,
      "metadata": {
        "id": "GB3sjzhYSs5P"
      },
      "outputs": [],
      "source": [
        "from zoofs import DragonFlyOptimization"
      ]
    },
    {
      "cell_type": "markdown",
      "metadata": {
        "id": "M-pTOBAsJDaw"
      },
      "source": [
        "# Setting up Objective function and fitting algo"
      ]
    },
    {
      "cell_type": "code",
      "execution_count": 5,
      "metadata": {
        "colab": {
          "base_uri": "https://localhost:8080/"
        },
        "id": "RBewGAguHn10",
        "outputId": "86ca023e-0895-4b30-a3c3-4fd34f356c28"
      },
      "outputs": [
        {
          "name": "stderr",
          "output_type": "stream",
          "text": [
            "\u001b[32m [ 2022-03-03 01:30:48,867 ] \u001b[0mFinished iteration #0 with objective value 0.00042688493007979523. Current best value is 0.00042688493007979523 \u001b[0m\n",
            "\u001b[32m [ 2022-03-03 01:30:50,737 ] \u001b[0mFinished iteration #1 with objective value 0.0004796281004668964. Current best value is 0.00042688493007979523 \u001b[0m\n",
            "\u001b[32m [ 2022-03-03 01:30:52,479 ] \u001b[0mFinished iteration #2 with objective value 0.00048376590822600817. Current best value is 0.00042688493007979523 \u001b[0m\n",
            "\u001b[32m [ 2022-03-03 01:30:54,171 ] \u001b[0mFinished iteration #3 with objective value 0.0004998724444697643. Current best value is 0.00042688493007979523 \u001b[0m\n",
            "\u001b[32m [ 2022-03-03 01:30:56,029 ] \u001b[0mFinished iteration #4 with objective value 0.0005036852166138854. Current best value is 0.00042688493007979523 \u001b[0m\n",
            "\u001b[32m [ 2022-03-03 01:30:57,911 ] \u001b[0mFinished iteration #5 with objective value 0.00046699316834635933. Current best value is 0.00042688493007979523 \u001b[0m\n",
            "\u001b[32m [ 2022-03-03 01:30:59,430 ] \u001b[0mFinished iteration #6 with objective value 0.00046760312762003707. Current best value is 0.00042688493007979523 \u001b[0m\n",
            "\u001b[32m [ 2022-03-03 01:31:01,082 ] \u001b[0mFinished iteration #7 with objective value 0.00042005690812107934. Current best value is 0.00042005690812107934 \u001b[0m\n",
            "\u001b[32m [ 2022-03-03 01:31:02,671 ] \u001b[0mFinished iteration #8 with objective value 0.0005586242504837262. Current best value is 0.00042005690812107934 \u001b[0m\n",
            "\u001b[32m [ 2022-03-03 01:31:04,219 ] \u001b[0mFinished iteration #9 with objective value 0.00045150269963537893. Current best value is 0.00042005690812107934 \u001b[0m\n",
            "\u001b[32m [ 2022-03-03 01:31:05,781 ] \u001b[0mFinished iteration #10 with objective value 0.0004850606235918851. Current best value is 0.00042005690812107934 \u001b[0m\n",
            "\u001b[32m [ 2022-03-03 01:31:07,362 ] \u001b[0mFinished iteration #11 with objective value 0.0004702033038147291. Current best value is 0.00042005690812107934 \u001b[0m\n",
            "\u001b[32m [ 2022-03-03 01:31:08,935 ] \u001b[0mFinished iteration #12 with objective value 0.00048823263477758023. Current best value is 0.00042005690812107934 \u001b[0m\n",
            "\u001b[32m [ 2022-03-03 01:31:10,501 ] \u001b[0mFinished iteration #13 with objective value 0.000531190727948647. Current best value is 0.00042005690812107934 \u001b[0m\n",
            "\u001b[32m [ 2022-03-03 01:31:12,026 ] \u001b[0mFinished iteration #14 with objective value 0.00046054953525202937. Current best value is 0.00042005690812107934 \u001b[0m\n",
            "\u001b[32m [ 2022-03-03 01:31:13,638 ] \u001b[0mFinished iteration #15 with objective value 0.0004799417423159305. Current best value is 0.00042005690812107934 \u001b[0m\n",
            "\u001b[32m [ 2022-03-03 01:31:15,612 ] \u001b[0mFinished iteration #16 with objective value 0.0004927318414383095. Current best value is 0.00042005690812107934 \u001b[0m\n",
            "\u001b[32m [ 2022-03-03 01:31:17,332 ] \u001b[0mFinished iteration #17 with objective value 0.0004987387937643816. Current best value is 0.00042005690812107934 \u001b[0m\n",
            "\u001b[32m [ 2022-03-03 01:31:18,957 ] \u001b[0mFinished iteration #18 with objective value 0.000509979236724887. Current best value is 0.00042005690812107934 \u001b[0m\n",
            "\u001b[32m [ 2022-03-03 01:31:20,676 ] \u001b[0mFinished iteration #19 with objective value 0.0004915487763485854. Current best value is 0.00042005690812107934 \u001b[0m\n"
          ]
        },
        {
          "data": {
            "text/plain": [
              "['mean radius',\n",
              " 'mean texture',\n",
              " 'mean area',\n",
              " 'mean smoothness',\n",
              " 'mean compactness',\n",
              " 'mean concave points',\n",
              " 'mean symmetry',\n",
              " 'mean fractal dimension',\n",
              " 'radius error',\n",
              " 'perimeter error',\n",
              " 'area error',\n",
              " 'smoothness error',\n",
              " 'concavity error',\n",
              " 'worst radius',\n",
              " 'worst texture',\n",
              " 'worst area',\n",
              " 'worst smoothness',\n",
              " 'worst symmetry',\n",
              " 'worst fractal dimension']"
            ]
          },
          "execution_count": 5,
          "metadata": {},
          "output_type": "execute_result"
        }
      ],
      "source": [
        "from sklearn.metrics import log_loss\n",
        "# define your own objective function, make sure the function receives four parameters,\n",
        "#  fit your model and return the objective value ! \n",
        "def objective_function_topass(model,X_train, y_train, X_valid, y_valid):      \n",
        "    model.fit(X_train,y_train)  \n",
        "    P=log_loss(y_valid,model.predict_proba(X_valid))\n",
        "    return P\n",
        "    \n",
        "# create object of algorithm\n",
        "algo_object=DragonFlyOptimization(objective_function_topass,n_iteration=20,method='linear',\n",
        "                                    population_size=20,minimize=True)\n",
        "import lightgbm as lgb\n",
        "lgb_model = lgb.LGBMClassifier()                                       \n",
        "# fit the algorithm\n",
        "algo_object.fit(lgb_model,X_train, y_train, X_train, y_train,verbose=True)\n",
        "#plot your results"
      ]
    },
    {
      "cell_type": "markdown",
      "metadata": {
        "id": "2wIhkfa4Jf_e"
      },
      "source": [
        "# Plotting the Results"
      ]
    },
    {
      "cell_type": "code",
      "execution_count": 6,
      "metadata": {
        "colab": {
          "base_uri": "https://localhost:8080/",
          "height": 542
        },
        "id": "ANgs6iqsHqQk",
        "outputId": "80bb5086-be7f-4e21-86d3-2100d40b6661"
      },
      "outputs": [
        {
          "data": {
            "application/vnd.plotly.v1+json": {
              "config": {
                "plotlyServerURL": "https://plot.ly"
              },
              "data": [
                {
                  "mode": "markers",
                  "name": "objective_score",
                  "type": "scatter",
                  "x": [
                    0,
                    1,
                    2,
                    3,
                    4,
                    5,
                    6,
                    7,
                    8,
                    9,
                    10,
                    11,
                    12,
                    13,
                    14,
                    15,
                    16,
                    17,
                    18,
                    19
                  ],
                  "y": [
                    0.00042688493007979523,
                    0.0004796281004668964,
                    0.00048376590822600817,
                    0.0004998724444697643,
                    0.0005036852166138854,
                    0.00046699316834635933,
                    0.00046760312762003707,
                    0.00042005690812107934,
                    0.0005586242504837262,
                    0.00045150269963537893,
                    0.0004850606235918851,
                    0.0004702033038147291,
                    0.00048823263477758023,
                    0.000531190727948647,
                    0.00046054953525202937,
                    0.0004799417423159305,
                    0.0004927318414383095,
                    0.0004987387937643816,
                    0.000509979236724887,
                    0.0004915487763485854
                  ]
                },
                {
                  "mode": "lines+markers",
                  "name": "best_score",
                  "type": "scatter",
                  "x": [
                    0,
                    1,
                    2,
                    3,
                    4,
                    5,
                    6,
                    7,
                    8,
                    9,
                    10,
                    11,
                    12,
                    13,
                    14,
                    15,
                    16,
                    17,
                    18,
                    19
                  ],
                  "y": [
                    0.00042688493007979523,
                    0.00042688493007979523,
                    0.00042688493007979523,
                    0.00042688493007979523,
                    0.00042688493007979523,
                    0.00042688493007979523,
                    0.00042688493007979523,
                    0.00042005690812107934,
                    0.00042005690812107934,
                    0.00042005690812107934,
                    0.00042005690812107934,
                    0.00042005690812107934,
                    0.00042005690812107934,
                    0.00042005690812107934,
                    0.00042005690812107934,
                    0.00042005690812107934,
                    0.00042005690812107934,
                    0.00042005690812107934,
                    0.00042005690812107934,
                    0.00042005690812107934
                  ]
                }
              ],
              "layout": {
                "template": {
                  "data": {
                    "bar": [
                      {
                        "error_x": {
                          "color": "#2a3f5f"
                        },
                        "error_y": {
                          "color": "#2a3f5f"
                        },
                        "marker": {
                          "line": {
                            "color": "#E5ECF6",
                            "width": 0.5
                          },
                          "pattern": {
                            "fillmode": "overlay",
                            "size": 10,
                            "solidity": 0.2
                          }
                        },
                        "type": "bar"
                      }
                    ],
                    "barpolar": [
                      {
                        "marker": {
                          "line": {
                            "color": "#E5ECF6",
                            "width": 0.5
                          },
                          "pattern": {
                            "fillmode": "overlay",
                            "size": 10,
                            "solidity": 0.2
                          }
                        },
                        "type": "barpolar"
                      }
                    ],
                    "carpet": [
                      {
                        "aaxis": {
                          "endlinecolor": "#2a3f5f",
                          "gridcolor": "white",
                          "linecolor": "white",
                          "minorgridcolor": "white",
                          "startlinecolor": "#2a3f5f"
                        },
                        "baxis": {
                          "endlinecolor": "#2a3f5f",
                          "gridcolor": "white",
                          "linecolor": "white",
                          "minorgridcolor": "white",
                          "startlinecolor": "#2a3f5f"
                        },
                        "type": "carpet"
                      }
                    ],
                    "choropleth": [
                      {
                        "colorbar": {
                          "outlinewidth": 0,
                          "ticks": ""
                        },
                        "type": "choropleth"
                      }
                    ],
                    "contour": [
                      {
                        "colorbar": {
                          "outlinewidth": 0,
                          "ticks": ""
                        },
                        "colorscale": [
                          [
                            0,
                            "#0d0887"
                          ],
                          [
                            0.1111111111111111,
                            "#46039f"
                          ],
                          [
                            0.2222222222222222,
                            "#7201a8"
                          ],
                          [
                            0.3333333333333333,
                            "#9c179e"
                          ],
                          [
                            0.4444444444444444,
                            "#bd3786"
                          ],
                          [
                            0.5555555555555556,
                            "#d8576b"
                          ],
                          [
                            0.6666666666666666,
                            "#ed7953"
                          ],
                          [
                            0.7777777777777778,
                            "#fb9f3a"
                          ],
                          [
                            0.8888888888888888,
                            "#fdca26"
                          ],
                          [
                            1,
                            "#f0f921"
                          ]
                        ],
                        "type": "contour"
                      }
                    ],
                    "contourcarpet": [
                      {
                        "colorbar": {
                          "outlinewidth": 0,
                          "ticks": ""
                        },
                        "type": "contourcarpet"
                      }
                    ],
                    "heatmap": [
                      {
                        "colorbar": {
                          "outlinewidth": 0,
                          "ticks": ""
                        },
                        "colorscale": [
                          [
                            0,
                            "#0d0887"
                          ],
                          [
                            0.1111111111111111,
                            "#46039f"
                          ],
                          [
                            0.2222222222222222,
                            "#7201a8"
                          ],
                          [
                            0.3333333333333333,
                            "#9c179e"
                          ],
                          [
                            0.4444444444444444,
                            "#bd3786"
                          ],
                          [
                            0.5555555555555556,
                            "#d8576b"
                          ],
                          [
                            0.6666666666666666,
                            "#ed7953"
                          ],
                          [
                            0.7777777777777778,
                            "#fb9f3a"
                          ],
                          [
                            0.8888888888888888,
                            "#fdca26"
                          ],
                          [
                            1,
                            "#f0f921"
                          ]
                        ],
                        "type": "heatmap"
                      }
                    ],
                    "heatmapgl": [
                      {
                        "colorbar": {
                          "outlinewidth": 0,
                          "ticks": ""
                        },
                        "colorscale": [
                          [
                            0,
                            "#0d0887"
                          ],
                          [
                            0.1111111111111111,
                            "#46039f"
                          ],
                          [
                            0.2222222222222222,
                            "#7201a8"
                          ],
                          [
                            0.3333333333333333,
                            "#9c179e"
                          ],
                          [
                            0.4444444444444444,
                            "#bd3786"
                          ],
                          [
                            0.5555555555555556,
                            "#d8576b"
                          ],
                          [
                            0.6666666666666666,
                            "#ed7953"
                          ],
                          [
                            0.7777777777777778,
                            "#fb9f3a"
                          ],
                          [
                            0.8888888888888888,
                            "#fdca26"
                          ],
                          [
                            1,
                            "#f0f921"
                          ]
                        ],
                        "type": "heatmapgl"
                      }
                    ],
                    "histogram": [
                      {
                        "marker": {
                          "pattern": {
                            "fillmode": "overlay",
                            "size": 10,
                            "solidity": 0.2
                          }
                        },
                        "type": "histogram"
                      }
                    ],
                    "histogram2d": [
                      {
                        "colorbar": {
                          "outlinewidth": 0,
                          "ticks": ""
                        },
                        "colorscale": [
                          [
                            0,
                            "#0d0887"
                          ],
                          [
                            0.1111111111111111,
                            "#46039f"
                          ],
                          [
                            0.2222222222222222,
                            "#7201a8"
                          ],
                          [
                            0.3333333333333333,
                            "#9c179e"
                          ],
                          [
                            0.4444444444444444,
                            "#bd3786"
                          ],
                          [
                            0.5555555555555556,
                            "#d8576b"
                          ],
                          [
                            0.6666666666666666,
                            "#ed7953"
                          ],
                          [
                            0.7777777777777778,
                            "#fb9f3a"
                          ],
                          [
                            0.8888888888888888,
                            "#fdca26"
                          ],
                          [
                            1,
                            "#f0f921"
                          ]
                        ],
                        "type": "histogram2d"
                      }
                    ],
                    "histogram2dcontour": [
                      {
                        "colorbar": {
                          "outlinewidth": 0,
                          "ticks": ""
                        },
                        "colorscale": [
                          [
                            0,
                            "#0d0887"
                          ],
                          [
                            0.1111111111111111,
                            "#46039f"
                          ],
                          [
                            0.2222222222222222,
                            "#7201a8"
                          ],
                          [
                            0.3333333333333333,
                            "#9c179e"
                          ],
                          [
                            0.4444444444444444,
                            "#bd3786"
                          ],
                          [
                            0.5555555555555556,
                            "#d8576b"
                          ],
                          [
                            0.6666666666666666,
                            "#ed7953"
                          ],
                          [
                            0.7777777777777778,
                            "#fb9f3a"
                          ],
                          [
                            0.8888888888888888,
                            "#fdca26"
                          ],
                          [
                            1,
                            "#f0f921"
                          ]
                        ],
                        "type": "histogram2dcontour"
                      }
                    ],
                    "mesh3d": [
                      {
                        "colorbar": {
                          "outlinewidth": 0,
                          "ticks": ""
                        },
                        "type": "mesh3d"
                      }
                    ],
                    "parcoords": [
                      {
                        "line": {
                          "colorbar": {
                            "outlinewidth": 0,
                            "ticks": ""
                          }
                        },
                        "type": "parcoords"
                      }
                    ],
                    "pie": [
                      {
                        "automargin": true,
                        "type": "pie"
                      }
                    ],
                    "scatter": [
                      {
                        "marker": {
                          "colorbar": {
                            "outlinewidth": 0,
                            "ticks": ""
                          }
                        },
                        "type": "scatter"
                      }
                    ],
                    "scatter3d": [
                      {
                        "line": {
                          "colorbar": {
                            "outlinewidth": 0,
                            "ticks": ""
                          }
                        },
                        "marker": {
                          "colorbar": {
                            "outlinewidth": 0,
                            "ticks": ""
                          }
                        },
                        "type": "scatter3d"
                      }
                    ],
                    "scattercarpet": [
                      {
                        "marker": {
                          "colorbar": {
                            "outlinewidth": 0,
                            "ticks": ""
                          }
                        },
                        "type": "scattercarpet"
                      }
                    ],
                    "scattergeo": [
                      {
                        "marker": {
                          "colorbar": {
                            "outlinewidth": 0,
                            "ticks": ""
                          }
                        },
                        "type": "scattergeo"
                      }
                    ],
                    "scattergl": [
                      {
                        "marker": {
                          "colorbar": {
                            "outlinewidth": 0,
                            "ticks": ""
                          }
                        },
                        "type": "scattergl"
                      }
                    ],
                    "scattermapbox": [
                      {
                        "marker": {
                          "colorbar": {
                            "outlinewidth": 0,
                            "ticks": ""
                          }
                        },
                        "type": "scattermapbox"
                      }
                    ],
                    "scatterpolar": [
                      {
                        "marker": {
                          "colorbar": {
                            "outlinewidth": 0,
                            "ticks": ""
                          }
                        },
                        "type": "scatterpolar"
                      }
                    ],
                    "scatterpolargl": [
                      {
                        "marker": {
                          "colorbar": {
                            "outlinewidth": 0,
                            "ticks": ""
                          }
                        },
                        "type": "scatterpolargl"
                      }
                    ],
                    "scatterternary": [
                      {
                        "marker": {
                          "colorbar": {
                            "outlinewidth": 0,
                            "ticks": ""
                          }
                        },
                        "type": "scatterternary"
                      }
                    ],
                    "surface": [
                      {
                        "colorbar": {
                          "outlinewidth": 0,
                          "ticks": ""
                        },
                        "colorscale": [
                          [
                            0,
                            "#0d0887"
                          ],
                          [
                            0.1111111111111111,
                            "#46039f"
                          ],
                          [
                            0.2222222222222222,
                            "#7201a8"
                          ],
                          [
                            0.3333333333333333,
                            "#9c179e"
                          ],
                          [
                            0.4444444444444444,
                            "#bd3786"
                          ],
                          [
                            0.5555555555555556,
                            "#d8576b"
                          ],
                          [
                            0.6666666666666666,
                            "#ed7953"
                          ],
                          [
                            0.7777777777777778,
                            "#fb9f3a"
                          ],
                          [
                            0.8888888888888888,
                            "#fdca26"
                          ],
                          [
                            1,
                            "#f0f921"
                          ]
                        ],
                        "type": "surface"
                      }
                    ],
                    "table": [
                      {
                        "cells": {
                          "fill": {
                            "color": "#EBF0F8"
                          },
                          "line": {
                            "color": "white"
                          }
                        },
                        "header": {
                          "fill": {
                            "color": "#C8D4E3"
                          },
                          "line": {
                            "color": "white"
                          }
                        },
                        "type": "table"
                      }
                    ]
                  },
                  "layout": {
                    "annotationdefaults": {
                      "arrowcolor": "#2a3f5f",
                      "arrowhead": 0,
                      "arrowwidth": 1
                    },
                    "autotypenumbers": "strict",
                    "coloraxis": {
                      "colorbar": {
                        "outlinewidth": 0,
                        "ticks": ""
                      }
                    },
                    "colorscale": {
                      "diverging": [
                        [
                          0,
                          "#8e0152"
                        ],
                        [
                          0.1,
                          "#c51b7d"
                        ],
                        [
                          0.2,
                          "#de77ae"
                        ],
                        [
                          0.3,
                          "#f1b6da"
                        ],
                        [
                          0.4,
                          "#fde0ef"
                        ],
                        [
                          0.5,
                          "#f7f7f7"
                        ],
                        [
                          0.6,
                          "#e6f5d0"
                        ],
                        [
                          0.7,
                          "#b8e186"
                        ],
                        [
                          0.8,
                          "#7fbc41"
                        ],
                        [
                          0.9,
                          "#4d9221"
                        ],
                        [
                          1,
                          "#276419"
                        ]
                      ],
                      "sequential": [
                        [
                          0,
                          "#0d0887"
                        ],
                        [
                          0.1111111111111111,
                          "#46039f"
                        ],
                        [
                          0.2222222222222222,
                          "#7201a8"
                        ],
                        [
                          0.3333333333333333,
                          "#9c179e"
                        ],
                        [
                          0.4444444444444444,
                          "#bd3786"
                        ],
                        [
                          0.5555555555555556,
                          "#d8576b"
                        ],
                        [
                          0.6666666666666666,
                          "#ed7953"
                        ],
                        [
                          0.7777777777777778,
                          "#fb9f3a"
                        ],
                        [
                          0.8888888888888888,
                          "#fdca26"
                        ],
                        [
                          1,
                          "#f0f921"
                        ]
                      ],
                      "sequentialminus": [
                        [
                          0,
                          "#0d0887"
                        ],
                        [
                          0.1111111111111111,
                          "#46039f"
                        ],
                        [
                          0.2222222222222222,
                          "#7201a8"
                        ],
                        [
                          0.3333333333333333,
                          "#9c179e"
                        ],
                        [
                          0.4444444444444444,
                          "#bd3786"
                        ],
                        [
                          0.5555555555555556,
                          "#d8576b"
                        ],
                        [
                          0.6666666666666666,
                          "#ed7953"
                        ],
                        [
                          0.7777777777777778,
                          "#fb9f3a"
                        ],
                        [
                          0.8888888888888888,
                          "#fdca26"
                        ],
                        [
                          1,
                          "#f0f921"
                        ]
                      ]
                    },
                    "colorway": [
                      "#636efa",
                      "#EF553B",
                      "#00cc96",
                      "#ab63fa",
                      "#FFA15A",
                      "#19d3f3",
                      "#FF6692",
                      "#B6E880",
                      "#FF97FF",
                      "#FECB52"
                    ],
                    "font": {
                      "color": "#2a3f5f"
                    },
                    "geo": {
                      "bgcolor": "white",
                      "lakecolor": "white",
                      "landcolor": "#E5ECF6",
                      "showlakes": true,
                      "showland": true,
                      "subunitcolor": "white"
                    },
                    "hoverlabel": {
                      "align": "left"
                    },
                    "hovermode": "closest",
                    "mapbox": {
                      "style": "light"
                    },
                    "paper_bgcolor": "white",
                    "plot_bgcolor": "#E5ECF6",
                    "polar": {
                      "angularaxis": {
                        "gridcolor": "white",
                        "linecolor": "white",
                        "ticks": ""
                      },
                      "bgcolor": "#E5ECF6",
                      "radialaxis": {
                        "gridcolor": "white",
                        "linecolor": "white",
                        "ticks": ""
                      }
                    },
                    "scene": {
                      "xaxis": {
                        "backgroundcolor": "#E5ECF6",
                        "gridcolor": "white",
                        "gridwidth": 2,
                        "linecolor": "white",
                        "showbackground": true,
                        "ticks": "",
                        "zerolinecolor": "white"
                      },
                      "yaxis": {
                        "backgroundcolor": "#E5ECF6",
                        "gridcolor": "white",
                        "gridwidth": 2,
                        "linecolor": "white",
                        "showbackground": true,
                        "ticks": "",
                        "zerolinecolor": "white"
                      },
                      "zaxis": {
                        "backgroundcolor": "#E5ECF6",
                        "gridcolor": "white",
                        "gridwidth": 2,
                        "linecolor": "white",
                        "showbackground": true,
                        "ticks": "",
                        "zerolinecolor": "white"
                      }
                    },
                    "shapedefaults": {
                      "line": {
                        "color": "#2a3f5f"
                      }
                    },
                    "ternary": {
                      "aaxis": {
                        "gridcolor": "white",
                        "linecolor": "white",
                        "ticks": ""
                      },
                      "baxis": {
                        "gridcolor": "white",
                        "linecolor": "white",
                        "ticks": ""
                      },
                      "bgcolor": "#E5ECF6",
                      "caxis": {
                        "gridcolor": "white",
                        "linecolor": "white",
                        "ticks": ""
                      }
                    },
                    "title": {
                      "x": 0.05
                    },
                    "xaxis": {
                      "automargin": true,
                      "gridcolor": "white",
                      "linecolor": "white",
                      "ticks": "",
                      "title": {
                        "standoff": 15
                      },
                      "zerolinecolor": "white",
                      "zerolinewidth": 2
                    },
                    "yaxis": {
                      "automargin": true,
                      "gridcolor": "white",
                      "linecolor": "white",
                      "ticks": "",
                      "title": {
                        "standoff": 15
                      },
                      "zerolinecolor": "white",
                      "zerolinewidth": 2
                    }
                  }
                },
                "title": {
                  "text": "Optimization History Plot"
                },
                "xaxis": {
                  "title": {
                    "text": "Iteration"
                  }
                },
                "yaxis": {
                  "title": {
                    "text": "objective_score"
                  }
                }
              }
            }
          },
          "metadata": {},
          "output_type": "display_data"
        }
      ],
      "source": [
        "algo_object.plot_history()"
      ]
    }
  ],
  "metadata": {
    "colab": {
      "name": "Dragon_Fly_optimization_example.ipynb",
      "provenance": []
    },
    "interpreter": {
      "hash": "2647ea34e536f865ab67ff9ddee7fd78773d956cec0cab53c79b32cd10da5d83"
    },
    "kernelspec": {
      "display_name": "Python 3.9.5 64-bit",
      "name": "python3"
    },
    "language_info": {
      "codemirror_mode": {
        "name": "ipython",
        "version": 3
      },
      "file_extension": ".py",
      "mimetype": "text/x-python",
      "name": "python",
      "nbconvert_exporter": "python",
      "pygments_lexer": "ipython3",
      "version": "3.9.5"
    }
  },
  "nbformat": 4,
  "nbformat_minor": 2
}
